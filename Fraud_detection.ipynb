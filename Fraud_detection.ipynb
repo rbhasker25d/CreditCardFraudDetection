{
 "cells": [
  {
   "cell_type": "code",
   "execution_count": 1,
   "metadata": {},
   "outputs": [],
   "source": [
    "import warnings;\n",
    "warnings.filterwarnings('ignore');\n",
    "import numpy as np\n",
    "import pandas as pd\n",
    "import seaborn as sb\n",
    "import matplotlib.pyplot as plt\n",
    "%matplotlib inline"
   ]
  },
  {
   "cell_type": "code",
   "execution_count": 5,
   "metadata": {},
   "outputs": [],
   "source": [
    "from sklearn.cluster import KMeans\n",
    "\n",
    "X=data.drop('Class',axis=1)\n",
    "Y=data.Class\n"
   ]
  },
  {
   "cell_type": "code",
   "execution_count": 2,
   "metadata": {},
   "outputs": [],
   "source": [
    "#Importing the data\n",
    "data=pd.read_csv('creditcard.csv')"
   ]
  },
  {
   "cell_type": "code",
   "execution_count": 3,
   "metadata": {},
   "outputs": [
    {
     "data": {
      "text/html": [
       "<div>\n",
       "<style scoped>\n",
       "    .dataframe tbody tr th:only-of-type {\n",
       "        vertical-align: middle;\n",
       "    }\n",
       "\n",
       "    .dataframe tbody tr th {\n",
       "        vertical-align: top;\n",
       "    }\n",
       "\n",
       "    .dataframe thead th {\n",
       "        text-align: right;\n",
       "    }\n",
       "</style>\n",
       "<table border=\"1\" class=\"dataframe\">\n",
       "  <thead>\n",
       "    <tr style=\"text-align: right;\">\n",
       "      <th></th>\n",
       "      <th>Time</th>\n",
       "      <th>V1</th>\n",
       "      <th>V2</th>\n",
       "      <th>V3</th>\n",
       "      <th>V4</th>\n",
       "      <th>V5</th>\n",
       "      <th>V6</th>\n",
       "      <th>V7</th>\n",
       "      <th>V8</th>\n",
       "      <th>V9</th>\n",
       "      <th>...</th>\n",
       "      <th>V21</th>\n",
       "      <th>V22</th>\n",
       "      <th>V23</th>\n",
       "      <th>V24</th>\n",
       "      <th>V25</th>\n",
       "      <th>V26</th>\n",
       "      <th>V27</th>\n",
       "      <th>V28</th>\n",
       "      <th>Amount</th>\n",
       "      <th>Class</th>\n",
       "    </tr>\n",
       "  </thead>\n",
       "  <tbody>\n",
       "    <tr>\n",
       "      <th>0</th>\n",
       "      <td>0.0</td>\n",
       "      <td>-1.359807</td>\n",
       "      <td>-0.072781</td>\n",
       "      <td>2.536347</td>\n",
       "      <td>1.378155</td>\n",
       "      <td>-0.338321</td>\n",
       "      <td>0.462388</td>\n",
       "      <td>0.239599</td>\n",
       "      <td>0.098698</td>\n",
       "      <td>0.363787</td>\n",
       "      <td>...</td>\n",
       "      <td>-0.018307</td>\n",
       "      <td>0.277838</td>\n",
       "      <td>-0.110474</td>\n",
       "      <td>0.066928</td>\n",
       "      <td>0.128539</td>\n",
       "      <td>-0.189115</td>\n",
       "      <td>0.133558</td>\n",
       "      <td>-0.021053</td>\n",
       "      <td>149.62</td>\n",
       "      <td>0</td>\n",
       "    </tr>\n",
       "    <tr>\n",
       "      <th>1</th>\n",
       "      <td>0.0</td>\n",
       "      <td>1.191857</td>\n",
       "      <td>0.266151</td>\n",
       "      <td>0.166480</td>\n",
       "      <td>0.448154</td>\n",
       "      <td>0.060018</td>\n",
       "      <td>-0.082361</td>\n",
       "      <td>-0.078803</td>\n",
       "      <td>0.085102</td>\n",
       "      <td>-0.255425</td>\n",
       "      <td>...</td>\n",
       "      <td>-0.225775</td>\n",
       "      <td>-0.638672</td>\n",
       "      <td>0.101288</td>\n",
       "      <td>-0.339846</td>\n",
       "      <td>0.167170</td>\n",
       "      <td>0.125895</td>\n",
       "      <td>-0.008983</td>\n",
       "      <td>0.014724</td>\n",
       "      <td>2.69</td>\n",
       "      <td>0</td>\n",
       "    </tr>\n",
       "    <tr>\n",
       "      <th>2</th>\n",
       "      <td>1.0</td>\n",
       "      <td>-1.358354</td>\n",
       "      <td>-1.340163</td>\n",
       "      <td>1.773209</td>\n",
       "      <td>0.379780</td>\n",
       "      <td>-0.503198</td>\n",
       "      <td>1.800499</td>\n",
       "      <td>0.791461</td>\n",
       "      <td>0.247676</td>\n",
       "      <td>-1.514654</td>\n",
       "      <td>...</td>\n",
       "      <td>0.247998</td>\n",
       "      <td>0.771679</td>\n",
       "      <td>0.909412</td>\n",
       "      <td>-0.689281</td>\n",
       "      <td>-0.327642</td>\n",
       "      <td>-0.139097</td>\n",
       "      <td>-0.055353</td>\n",
       "      <td>-0.059752</td>\n",
       "      <td>378.66</td>\n",
       "      <td>0</td>\n",
       "    </tr>\n",
       "    <tr>\n",
       "      <th>3</th>\n",
       "      <td>1.0</td>\n",
       "      <td>-0.966272</td>\n",
       "      <td>-0.185226</td>\n",
       "      <td>1.792993</td>\n",
       "      <td>-0.863291</td>\n",
       "      <td>-0.010309</td>\n",
       "      <td>1.247203</td>\n",
       "      <td>0.237609</td>\n",
       "      <td>0.377436</td>\n",
       "      <td>-1.387024</td>\n",
       "      <td>...</td>\n",
       "      <td>-0.108300</td>\n",
       "      <td>0.005274</td>\n",
       "      <td>-0.190321</td>\n",
       "      <td>-1.175575</td>\n",
       "      <td>0.647376</td>\n",
       "      <td>-0.221929</td>\n",
       "      <td>0.062723</td>\n",
       "      <td>0.061458</td>\n",
       "      <td>123.50</td>\n",
       "      <td>0</td>\n",
       "    </tr>\n",
       "    <tr>\n",
       "      <th>4</th>\n",
       "      <td>2.0</td>\n",
       "      <td>-1.158233</td>\n",
       "      <td>0.877737</td>\n",
       "      <td>1.548718</td>\n",
       "      <td>0.403034</td>\n",
       "      <td>-0.407193</td>\n",
       "      <td>0.095921</td>\n",
       "      <td>0.592941</td>\n",
       "      <td>-0.270533</td>\n",
       "      <td>0.817739</td>\n",
       "      <td>...</td>\n",
       "      <td>-0.009431</td>\n",
       "      <td>0.798278</td>\n",
       "      <td>-0.137458</td>\n",
       "      <td>0.141267</td>\n",
       "      <td>-0.206010</td>\n",
       "      <td>0.502292</td>\n",
       "      <td>0.219422</td>\n",
       "      <td>0.215153</td>\n",
       "      <td>69.99</td>\n",
       "      <td>0</td>\n",
       "    </tr>\n",
       "  </tbody>\n",
       "</table>\n",
       "<p>5 rows × 31 columns</p>\n",
       "</div>"
      ],
      "text/plain": [
       "   Time        V1        V2        V3        V4        V5        V6        V7  \\\n",
       "0   0.0 -1.359807 -0.072781  2.536347  1.378155 -0.338321  0.462388  0.239599   \n",
       "1   0.0  1.191857  0.266151  0.166480  0.448154  0.060018 -0.082361 -0.078803   \n",
       "2   1.0 -1.358354 -1.340163  1.773209  0.379780 -0.503198  1.800499  0.791461   \n",
       "3   1.0 -0.966272 -0.185226  1.792993 -0.863291 -0.010309  1.247203  0.237609   \n",
       "4   2.0 -1.158233  0.877737  1.548718  0.403034 -0.407193  0.095921  0.592941   \n",
       "\n",
       "         V8        V9  ...         V21       V22       V23       V24  \\\n",
       "0  0.098698  0.363787  ...   -0.018307  0.277838 -0.110474  0.066928   \n",
       "1  0.085102 -0.255425  ...   -0.225775 -0.638672  0.101288 -0.339846   \n",
       "2  0.247676 -1.514654  ...    0.247998  0.771679  0.909412 -0.689281   \n",
       "3  0.377436 -1.387024  ...   -0.108300  0.005274 -0.190321 -1.175575   \n",
       "4 -0.270533  0.817739  ...   -0.009431  0.798278 -0.137458  0.141267   \n",
       "\n",
       "        V25       V26       V27       V28  Amount  Class  \n",
       "0  0.128539 -0.189115  0.133558 -0.021053  149.62      0  \n",
       "1  0.167170  0.125895 -0.008983  0.014724    2.69      0  \n",
       "2 -0.327642 -0.139097 -0.055353 -0.059752  378.66      0  \n",
       "3  0.647376 -0.221929  0.062723  0.061458  123.50      0  \n",
       "4 -0.206010  0.502292  0.219422  0.215153   69.99      0  \n",
       "\n",
       "[5 rows x 31 columns]"
      ]
     },
     "execution_count": 3,
     "metadata": {},
     "output_type": "execute_result"
    }
   ],
   "source": [
    "#Taking a Peak at Features and Observations\n",
    "data.head()"
   ]
  },
  {
   "cell_type": "code",
   "execution_count": null,
   "metadata": {},
   "outputs": [],
   "source": []
  },
  {
   "cell_type": "code",
   "execution_count": 4,
   "metadata": {},
   "outputs": [
    {
     "data": {
      "text/plain": [
       "Time      0\n",
       "V1        0\n",
       "V2        0\n",
       "V3        0\n",
       "V4        0\n",
       "V5        0\n",
       "V6        0\n",
       "V7        0\n",
       "V8        0\n",
       "V9        0\n",
       "V10       0\n",
       "V11       0\n",
       "V12       0\n",
       "V13       0\n",
       "V14       0\n",
       "V15       0\n",
       "V16       0\n",
       "V17       0\n",
       "V18       0\n",
       "V19       0\n",
       "V20       0\n",
       "V21       0\n",
       "V22       0\n",
       "V23       0\n",
       "V24       0\n",
       "V25       0\n",
       "V26       0\n",
       "V27       0\n",
       "V28       0\n",
       "Amount    0\n",
       "Class     0\n",
       "dtype: int64"
      ]
     },
     "execution_count": 4,
     "metadata": {},
     "output_type": "execute_result"
    }
   ],
   "source": [
    "#Check for missing Values\n",
    "data.isnull().sum()"
   ]
  },
  {
   "cell_type": "code",
   "execution_count": 5,
   "metadata": {},
   "outputs": [
    {
     "data": {
      "text/plain": [
       "0    284315\n",
       "1       492\n",
       "Name: Class, dtype: int64"
      ]
     },
     "execution_count": 5,
     "metadata": {},
     "output_type": "execute_result"
    },
    {
     "data": {
      "image/png": "[encoded data removed]",
      "text/plain": [
       "<Figure size 432x288 with 1 Axes>"
      ]
     },
     "metadata": {
      "needs_background": "light"
     },
     "output_type": "display_data"
    }
   ],
   "source": [
    "#Check for Imbalanced data\n",
    "sb.countplot(data.Class)\n",
    "data.Class.value_counts()"
   ]
  },
  {
   "cell_type": "code",
   "execution_count": null,
   "metadata": {},
   "outputs": [],
   "source": []
  },
  {
   "cell_type": "code",
   "execution_count": 6,
   "metadata": {},
   "outputs": [],
   "source": [
    "#Scaling Time and Amount as all the other fetaures are scaled already\n",
    "from sklearn.preprocessing import RobustScaler\n",
    "\n",
    "scaled_Amount=RobustScaler().fit_transform(data.Amount.values.reshape(-1,1))\n",
    "scaled_Time=RobustScaler().fit_transform(data.Amount.values.reshape(-1,1))"
   ]
  },
  {
   "cell_type": "code",
   "execution_count": 7,
   "metadata": {},
   "outputs": [],
   "source": [
    "data.drop(['Amount','Time'],axis=1,inplace=True)\n",
    "data.insert(0,'Scaled Amount',scaled_Amount)\n",
    "data.insert(1,'Scaled Time',scaled_Time)"
   ]
  },
  {
   "cell_type": "code",
   "execution_count": 8,
   "metadata": {},
   "outputs": [],
   "source": [
    "X=data.drop('Class',axis=1)\n",
    "Y=data.Class\n"
   ]
  },
  {
   "cell_type": "code",
   "execution_count": 9,
   "metadata": {},
   "outputs": [],
   "source": [
    "#Splitting my Original Data set in Train and Test samples\n",
    "#We will not be using these training samples as these are very unbalanced,we will be implementing under sampling and oversampling\n",
    "#However, We will be using Test samples  created here to test the data set once it has been trained using under sampling or overampling techniques.\n",
    "from sklearn.model_selection import StratifiedShuffleSplit\n",
    "\n",
    "for train_index_number,test_index_number in StratifiedShuffleSplit().split(X,Y):\n",
    "    original_x_train,original_x_test=X.iloc[train_index_number],X.iloc[test_index_number]\n",
    "    original_y_train,original_y_test=Y.iloc[train_index_number],Y.iloc[test_index_number]\n"
   ]
  },
  {
   "cell_type": "code",
   "execution_count": 10,
   "metadata": {},
   "outputs": [
    {
     "name": "stdout",
     "output_type": "stream",
     "text": [
      "Percentage of Fraud Cases Present before Splitting: 0.1727485630620034\n",
      "Percentage of Fraud Cases in Training dataset 0.17282679088348432\n",
      "Percentage of Fraud Cases in Testing dataset 0.17204452090867595\n"
     ]
    }
   ],
   "source": [
    "#Checking that the percentage of Fraud and Non-fraud Cases in Original,Training  and Testing data Set\n",
    "\n",
    "non_fraud_cases,fraud_cases=Y.value_counts()\n",
    "print(f'Percentage of Fraud Cases Present before Splitting: {(fraud_cases/(fraud_cases+non_fraud_cases))*100}')\n",
    "\n",
    "non_fraud_after_split_training,fraud_after_split_training=original_y_train.value_counts()\n",
    "print(f'Percentage of Fraud Cases in Training dataset {(fraud_after_split_training/(fraud_after_split_training+non_fraud_after_split_training))*100}')\n",
    "\n",
    "non_fraud_test,fraud_test_test=original_y_test.value_counts()\n",
    "print(f'Percentage of Fraud Cases in Testing dataset {(fraud_test_test/(fraud_test_test+non_fraud_test))*100}')\n"
   ]
  },
  {
   "cell_type": "markdown",
   "metadata": {},
   "source": [
    "<h2>Impliment Under sampling</h2>"
   ]
  },
  {
   "cell_type": "code",
   "execution_count": 11,
   "metadata": {},
   "outputs": [],
   "source": [
    "data=data.sample(frac=1)\n",
    "non_fraud_data=data[data.Class==0]\n",
    "temp_non_fraud=non_fraud_data[:492]\n",
    "fraud_data=data[data.Class==1]\n",
    "Undersampled_data=pd.concat([temp_non_fraud,fraud_data])\n",
    "Undersampled_data=Undersampled_data.sample(frac=1)"
   ]
  },
  {
   "cell_type": "markdown",
   "metadata": {},
   "source": [
    "<h1>Feature Selection</h1>"
   ]
  },
  {
   "cell_type": "markdown",
   "metadata": {},
   "source": [
    "<h1>Filter Methods<h1>\n"
   ]
  },
  {
   "cell_type": "markdown",
   "metadata": {},
   "source": [
    "<h2>Method-1 Using Variance Threshold for removing Constant/QConstant Features and finding Duplicate features</h2>\n",
    "<h2>This method will not be effective here as the data is Already Scaled i.e. it has unit variance</h2>"
   ]
  },
  {
   "cell_type": "code",
   "execution_count": 12,
   "metadata": {},
   "outputs": [],
   "source": [
    "from sklearn.feature_selection import VarianceThreshold"
   ]
  },
  {
   "cell_type": "code",
   "execution_count": 13,
   "metadata": {},
   "outputs": [],
   "source": [
    "#Finding Constant features\n",
    "selector=VarianceThreshold(threshold=0)\n",
    "selector.fit(Undersampled_data)\n",
    "constant_features=Undersampled_data.columns[selector.get_support()]"
   ]
  },
  {
   "cell_type": "code",
   "execution_count": 14,
   "metadata": {},
   "outputs": [],
   "source": [
    "#Finding Qconstant Features\n",
    "qselector=VarianceThreshold(threshold=0.01)\n",
    "qselector.fit(Undersampled_data)\n",
    "qConstant_Features=Undersampled_data.columns[qselector.get_support()]"
   ]
  },
  {
   "cell_type": "markdown",
   "metadata": {},
   "source": [
    "<h2>Finding Duplicate Coloumns</h2>"
   ]
  },
  {
   "cell_type": "code",
   "execution_count": 15,
   "metadata": {},
   "outputs": [],
   "source": [
    "Undersampled_data_transpose=Undersampled_data.T\n",
    "Undersampled_data_transpose.duplicated().sum()\n",
    "Undersampled_data=Undersampled_data_transpose.drop_duplicates().T"
   ]
  },
  {
   "cell_type": "markdown",
   "metadata": {},
   "source": [
    "<h2>Method 2- Finding Correlation With Label and removing the features that have a very strong Corelation</h2>"
   ]
  },
  {
   "cell_type": "code",
   "execution_count": 16,
   "metadata": {},
   "outputs": [
    {
     "data": {
      "text/plain": [
       "{'V10', 'V11', 'V12', 'V14', 'V16', 'V17', 'V18', 'V3', 'V5', 'V7'}"
      ]
     },
     "execution_count": 16,
     "metadata": {},
     "output_type": "execute_result"
    }
   ],
   "source": [
    "#Identifying Highly Corelated Features amongs all the features in data Set\n",
    "highly_correlated_features=set()\n",
    "correlation_matrix=Undersampled_data.corr()\n",
    "for i in range(len(correlation_matrix.columns)):\n",
    "    for j in range(i):\n",
    "        if correlation_matrix.iloc[i,j]>0.8 or correlation_matrix.iloc[i,j]<-0.8:\n",
    "            coloumn_name=correlation_matrix.columns[i]\n",
    "            highly_correlated_features.add(coloumn_name)\n",
    "highly_correlated_features"
   ]
  },
  {
   "cell_type": "code",
   "execution_count": 17,
   "metadata": {},
   "outputs": [
    {
     "data": {
      "text/plain": [
       "<matplotlib.axes._subplots.AxesSubplot at 0x1a1cb06f60>"
      ]
     },
     "execution_count": 17,
     "metadata": {},
     "output_type": "execute_result"
    },
    {
     "data": {
      "image/png": "[encoded data removed]",
      "text/plain": [
       "<Figure size 1440x720 with 2 Axes>"
      ]
     },
     "metadata": {
      "needs_background": "light"
     },
     "output_type": "display_data"
    }
   ],
   "source": [
    "Undersampled_data_after_feature_selection=Undersampled_data.drop(highly_correlated_features,axis=1)\n",
    "plt.figure(figsize=[20,10])\n",
    "sb.heatmap(Undersampled_data_after_feature_selection.corr(),cmap='coolwarm_r')"
   ]
  },
  {
   "cell_type": "markdown",
   "metadata": {},
   "source": [
    "<h2> Using SelectK best features</h2>"
   ]
  },
  {
   "cell_type": "markdown",
   "metadata": {},
   "source": [
    "<h3>We can use the above method if we want to reduce the no of features more and also if we want to filter variables in corelation with Label</h3>"
   ]
  },
  {
   "cell_type": "code",
   "execution_count": 18,
   "metadata": {},
   "outputs": [],
   "source": [
    "from sklearn.feature_selection import SelectKBest,chi2,f_classif"
   ]
  },
  {
   "cell_type": "code",
   "execution_count": 19,
   "metadata": {},
   "outputs": [],
   "source": [
    "#Getting X and Y from undersampled data\n",
    "X_undersampled=Undersampled_data_after_feature_selection.drop('Class',axis=1)\n",
    "Y_undersampled=Undersampled_data_after_feature_selection.Class\n",
    "\n",
    "#Finding Training and testing Sets\n",
    "from sklearn.model_selection import train_test_split\n",
    "\n",
    "undersample_x_train,undersample_x_test,undersample_y_train,undersample_y_test=train_test_split(X_undersampled,Y_undersampled)"
   ]
  },
  {
   "cell_type": "code",
   "execution_count": 20,
   "metadata": {},
   "outputs": [
    {
     "data": {
      "text/plain": [
       "SelectKBest(k=10, score_func=<function f_classif at 0x1a1d809a60>)"
      ]
     },
     "execution_count": 20,
     "metadata": {},
     "output_type": "execute_result"
    }
   ],
   "source": [
    "k_best_selector=SelectKBest(score_func=f_classif,k=10)\n",
    "k_best_selector.fit(X_undersampled,Y_undersampled)"
   ]
  },
  {
   "cell_type": "code",
   "execution_count": 21,
   "metadata": {},
   "outputs": [
    {
     "data": {
      "text/plain": [
       "Index(['V1', 'V2', 'V4', 'V6', 'V9', 'V19', 'V20', 'V21', 'V24', 'V28'], dtype='object')"
      ]
     },
     "execution_count": 21,
     "metadata": {},
     "output_type": "execute_result"
    }
   ],
   "source": [
    "k_best_selector.get_support()\n",
    "X_undersampled.columns[k_best_selector.get_support()]"
   ]
  },
  {
   "cell_type": "markdown",
   "metadata": {},
   "source": [
    "<h1>Outlier Detection</h1>"
   ]
  },
  {
   "cell_type": "markdown",
   "metadata": {},
   "source": [
    "#We can check all the features for outliers but for now we will only check those features which have a strong co-relation with Label"
   ]
  },
  {
   "cell_type": "code",
   "execution_count": null,
   "metadata": {},
   "outputs": [],
   "source": []
  },
  {
   "cell_type": "code",
   "execution_count": 22,
   "metadata": {},
   "outputs": [],
   "source": [
    "def OutlierRemoval_UnderSampling(columnname):\n",
    "    US_q25=np.percentile(Undersampled_data_after_feature_selection[columnname],25)\n",
    "    US_q75=np.percentile(Undersampled_data_after_feature_selection[columnname],75)\n",
    "    US_IQR=US_q75-US_q25\n",
    "    US_Cut_off=US_IQR*1.5\n",
    "    US_upper=US_q75+US_Cut_off\n",
    "    US_lower=US_q25-US_Cut_off\n",
    "    index_values=Undersampled_data_after_feature_selection[(Undersampled_data_after_feature_selection[columnname]>US_upper)|(Undersampled_data_after_feature_selection[columnname]<US_lower)].index\n",
    "    Undersampled_data_after_feature_selection.drop(index_values)"
   ]
  },
  {
   "cell_type": "code",
   "execution_count": 23,
   "metadata": {},
   "outputs": [],
   "source": [
    "for col in Undersampled_data_after_feature_selection.columns:\n",
    "    OutlierRemoval_UnderSampling(col)"
   ]
  },
  {
   "cell_type": "markdown",
   "metadata": {},
   "source": [
    "<h2>Implement machine Learning</h2>"
   ]
  },
  {
   "cell_type": "code",
   "execution_count": 24,
   "metadata": {},
   "outputs": [],
   "source": [
    "from sklearn.cluster import KMeans\n",
    "from sklearn.decomposition import PCA"
   ]
  },
  {
   "cell_type": "code",
   "execution_count": 25,
   "metadata": {},
   "outputs": [],
   "source": [
    "X=Undersampled_data_after_feature_selection.drop('Class',axis=1)\n",
    "Y=Undersampled_data_after_feature_selection.Class\n",
    "clustering=KMeans(n_clusters=2)\n",
    "kmeans_predict=clustering.fit_predict(X)"
   ]
  },
  {
   "cell_type": "code",
   "execution_count": 26,
   "metadata": {},
   "outputs": [
    {
     "data": {
      "text/plain": [
       "<matplotlib.collections.PathCollection at 0x1a1d9c9c88>"
      ]
     },
     "execution_count": 26,
     "metadata": {},
     "output_type": "execute_result"
    },
    {
     "data": {
      "image/png": "[encoded data removed]",
      "text/plain": [
       "<Figure size 432x288 with 2 Axes>"
      ]
     },
     "metadata": {
      "needs_background": "light"
     },
     "output_type": "display_data"
    }
   ],
   "source": [
    "plt.subplot(1,2,1)\n",
    "plt.scatter(x=Undersampled_data_after_feature_selection.V1,y=Undersampled_data_after_feature_selection.Class,c=clustering.labels_)\n",
    "\n",
    "plt.subplot(1,2,2)\n",
    "plt.scatter(x=Undersampled_data_after_feature_selection.V1,y=Undersampled_data_after_feature_selection.Class,c=Undersampled_data_after_feature_selection.Class)"
   ]
  },
  {
   "cell_type": "code",
   "execution_count": 27,
   "metadata": {},
   "outputs": [],
   "source": [
    "pca=PCA(n_components=2)\n",
    "principle_components=pca.fit_transform(X)"
   ]
  },
  {
   "cell_type": "code",
   "execution_count": 28,
   "metadata": {},
   "outputs": [
    {
     "data": {
      "text/plain": [
       "<matplotlib.axes._subplots.AxesSubplot at 0x1a1da05f98>"
      ]
     },
     "execution_count": 28,
     "metadata": {},
     "output_type": "execute_result"
    },
    {
     "data": {
      "image/png": "[encoded data removed]",
      "text/plain": [
       "<Figure size 432x288 with 1 Axes>"
      ]
     },
     "metadata": {
      "needs_background": "light"
     },
     "output_type": "display_data"
    }
   ],
   "source": [
    "plt.title('PCA Result')\n",
    "sb.scatterplot(x=principle_components[:,0],y=principle_components[:,1],hue=(Y==1))"
   ]
  },
  {
   "cell_type": "code",
   "execution_count": 29,
   "metadata": {},
   "outputs": [],
   "source": [
    "from sklearn.linear_model import LogisticRegression\n",
    "from sklearn.neighbors import KNeighborsClassifier\n",
    "from sklearn.ensemble import RandomForestClassifier\n",
    "from sklearn.ensemble import GradientBoostingClassifier\n",
    "from sklearn.model_selection import cross_val_score"
   ]
  },
  {
   "cell_type": "code",
   "execution_count": null,
   "metadata": {},
   "outputs": [],
   "source": []
  },
  {
   "cell_type": "code",
   "execution_count": 30,
   "metadata": {},
   "outputs": [],
   "source": [
    "classifiers=[LogisticRegression(),KNeighborsClassifier(),RandomForestClassifier(),GradientBoostingClassifier()]"
   ]
  },
  {
   "cell_type": "code",
   "execution_count": 31,
   "metadata": {},
   "outputs": [
    {
     "name": "stdout",
     "output_type": "stream",
     "text": [
      "With Default Parameters The accuracy Score of LogisticRegression is: 92.01%\n",
      "With Default Parameters The accuracy Score of KNeighborsClassifier is: 91.06%\n",
      "With Default Parameters The accuracy Score of RandomForestClassifier is: 90.79%\n",
      "With Default Parameters The accuracy Score of GradientBoostingClassifier is: 91.47%\n"
     ]
    }
   ],
   "source": [
    "for classifier in classifiers:\n",
    "    classifier.fit(undersample_x_train,undersample_y_train)\n",
    "    cv_score=cross_val_score(classifier,undersample_x_train,undersample_y_train,cv=15)\n",
    "    print(f\"With Default Parameters The accuracy Score of {classifier.__class__.__name__} is: {round(cv_score.mean()*100,2)}%\")\n"
   ]
  },
  {
   "cell_type": "code",
   "execution_count": 32,
   "metadata": {},
   "outputs": [],
   "source": [
    "from sklearn.model_selection import GridSearchCV\n",
    "\n",
    "log_reg_param={'penalty':['l1','l2'],'C':[0.001, 0.01, 0.1, 1, 10, 100, 1000]}\n",
    "K_neigber_param={\"n_neighbors\": [2,3,4,5], 'algorithm': ['auto', 'ball_tree', 'kd_tree', 'brute']}\n",
    "random_forest_param={'n_estimators':[60,70,80,90,100,110,120,130,140,150,160,170],'criterion':['gini','entropy'],'max_features':[3,4,5,6,'auto']}\n",
    "Gradient_boosting_param={'n_estimators':[60,70,80,90,100,110,120,130,140,150,160,170],'learning_rate':list([0.001, 0.01, 0.1, 1, 10, 100, 1000]),\n",
    "                                         'criterion':['friedman_mse','mse','mae'],\n",
    "                                         'max_features':[3,4,5,6,7,'auto']}"
   ]
  },
  {
   "cell_type": "code",
   "execution_count": 33,
   "metadata": {},
   "outputs": [],
   "source": [
    "log_reg=GridSearchCV(LogisticRegression(),log_reg_param)\n",
    "fit_log_reg=log_reg.fit(undersample_x_train,undersample_y_train)\n",
    "log_reg_best_param=fit_log_reg.best_estimator_\n",
    "\n",
    "K_neigber=GridSearchCV(KNeighborsClassifier(),K_neigber_param)\n",
    "fit_k_Neighber=K_neigber.fit(undersample_x_train,undersample_y_train)\n",
    "k_neigber_best_param=fit_k_Neighber.best_estimator_\n",
    "\n",
    "random_forest=GridSearchCV(RandomForestClassifier(),random_forest_param)\n",
    "fit_random_forest=random_forest.fit(undersample_x_train,undersample_y_train)\n",
    "random_forest_best_param=fit_random_forest.best_estimator_\n"
   ]
  },
  {
   "cell_type": "markdown",
   "metadata": {},
   "source": [
    "#Coputaionaly very expensive to run\n",
    "gradient_boosting=GridSearchCV(GradientBoostingClassifier(),Gradient_boosting_param)\n",
    "fit_grad_boost=gradient_boosting.fit(undersample_x_train,undersample_y_train)\n",
    "grad_boost_best_param=fit_grad_boost.best_estimator_"
   ]
  },
  {
   "cell_type": "code",
   "execution_count": 34,
   "metadata": {},
   "outputs": [
    {
     "name": "stdout",
     "output_type": "stream",
     "text": [
      " Logistic Regression :92.0%\n",
      "KNeigbersClassifier :91.0%\n",
      " Random Forest :92.0%\n"
     ]
    }
   ],
   "source": [
    "log_reg_cross_val_score=cross_val_score(log_reg_best_param,undersample_x_train,undersample_y_train,cv=15)\n",
    "print(f' Logistic Regression :{round(log_reg_cross_val_score.mean(),2)*100}%')\n",
    "\n",
    "k_neigber_classifier=cross_val_score(k_neigber_best_param,undersample_x_train,undersample_y_train,cv=15)\n",
    "print(f'KNeigbersClassifier :{round(k_neigber_classifier.mean(),2)*100}%')\n",
    "\n",
    "Random_Forest_cross_val_score=cross_val_score(random_forest_best_param,undersample_x_train,undersample_y_train,cv=15)\n",
    "print(f' Random Forest :{round(log_reg_cross_val_score.mean(),2)*100}%')\n",
    "\n",
    "#Graident_boost_cross_val=cross_val_score(grad_boost_best_param,undersample_x_train,undersample_y_train)\n",
    "#print(f'graident bossting :{round(Graident_boost_cross_val.mean(),2)*100}%')\n"
   ]
  },
  {
   "cell_type": "markdown",
   "metadata": {},
   "source": [
    "<h3>learning Curve</h3>\n",
    "\n",
    "If the Gap between training and Testing score is big then our model is overfitting.\n",
    "If the gap is less but the scores are low then Underfitting is happening."
   ]
  },
  {
   "cell_type": "code",
   "execution_count": 35,
   "metadata": {},
   "outputs": [
    {
     "data": {
      "image/png": "[encoded data removed]",
      "text/plain": [
       "<Figure size 720x360 with 1 Axes>"
      ]
     },
     "metadata": {
      "needs_background": "light"
     },
     "output_type": "display_data"
    }
   ],
   "source": [
    "from sklearn.model_selection import learning_curve\n",
    "\n",
    "train_size,train_score,test_score=learning_curve(estimator=log_reg_best_param,X=undersample_x_train,y=undersample_y_train)\n",
    "train_score_mean=np.mean(train_score,axis=1)\n",
    "train_score_std=np.std(train_score,axis=1)\n",
    "test_score_mean=np.mean(test_score,axis=1)\n",
    "test_score_std=np.std(test_score,axis=1)\n",
    "\n",
    "plt.figure(figsize=[10,5])\n",
    "plt.title(\"Learning Curve for Logistic Regression\")\n",
    "plt.xlabel('Training example')\n",
    "plt.ylabel('score')\n",
    "plt.grid()\n",
    "plt.fill_between(train_size,train_score_mean-train_score_std,train_score_mean+train_score_std,alpha=0.1)\n",
    "plt.fill_between(train_size,test_score_mean-test_score_std,test_score_mean+test_score_std,alpha=0.1)\n",
    "plt.plot(train_size,train_score_mean,label='Training Score')\n",
    "plt.plot(train_size,test_score_mean,label='Testing Score')\n",
    "plt.show()"
   ]
  },
  {
   "cell_type": "code",
   "execution_count": null,
   "metadata": {},
   "outputs": [],
   "source": []
  },
  {
   "cell_type": "code",
   "execution_count": 36,
   "metadata": {},
   "outputs": [
    {
     "data": {
      "image/png": "[encoded data removed]",
      "text/plain": [
       "<Figure size 720x360 with 1 Axes>"
      ]
     },
     "metadata": {
      "needs_background": "light"
     },
     "output_type": "display_data"
    }
   ],
   "source": [
    "\n",
    "plt.figure(figsize=[10,5])\n",
    "plt.title('Learning Curve for K Neigbhers Classifier')\n",
    "plt.xlabel('Training Examples')\n",
    "plt.ylabel('Score')\n",
    "train_size_KNC,train_score_KNC,test_score_KNC=learning_curve(estimator=k_neigber_best_param,X=undersample_x_train,y=undersample_y_train)\n",
    "train_score_mean_KNC=np.mean(train_score_KNC,axis=1)\n",
    "train_score_std_KNC=np.std(train_score_KNC,axis=1)\n",
    "test_score_mean_KNC=np.mean(test_score_KNC,axis=1)\n",
    "test_score_std_KNC=np.std(test_score_KNC,axis=1)\n",
    "\n",
    "plt.fill_between(train_size_KNC,train_score_mean_KNC-train_score_std_KNC,train_score_mean_KNC+train_score_std_KNC,alpha=0.1)\n",
    "plt.fill_between(train_size_KNC,test_score_mean_KNC-test_score_std_KNC,test_score_mean_KNC+test_score_std_KNC,alpha=0.1)\n",
    "plt.plot(train_size_KNC,train_score_mean_KNC,label='Training Score')\n",
    "plt.plot(train_size_KNC,test_score_mean_KNC,label='Testing Score')\n",
    "plt.show()"
   ]
  },
  {
   "cell_type": "code",
   "execution_count": 37,
   "metadata": {},
   "outputs": [
    {
     "data": {
      "image/png": "[encoded data removed]",
      "text/plain": [
       "<Figure size 720x360 with 1 Axes>"
      ]
     },
     "metadata": {
      "needs_background": "light"
     },
     "output_type": "display_data"
    }
   ],
   "source": [
    "plt.figure(figsize=[10,5])\n",
    "plt.title('Learning Curve for Random Forest Classifier')\n",
    "plt.xlabel('Training Example')\n",
    "plt.ylabel('Score')\n",
    "train_sizes_RFC,train_score_RFC,test_score_RFC=learning_curve(estimator=random_forest_best_param,X=undersample_x_train,y=undersample_y_train)\n",
    "train_score_mean_RFC=np.mean(train_score_RFC,axis=1)\n",
    "train_score_std_RFC=np.std(train_score_RFC,axis=1)\n",
    "test_score_mean_RFC=np.mean(test_score_RFC,axis=1)\n",
    "test_score_std_RFC=np.std(test_score_RFC,axis=1)\n",
    "\n",
    "plt.fill_between(train_sizes_RFC,train_score_mean_RFC-train_score_std_RFC,train_score_mean_RFC+train_score_std_RFC,alpha=0.1)\n",
    "plt.fill_between(train_sizes_RFC,test_score_mean_RFC-test_score_std_RFC,test_score_mean_RFC+test_score_std_RFC,alpha=0.1)\n",
    "plt.plot(train_sizes_RFC,train_score_mean_RFC,label='Training Score')\n",
    "plt.plot(train_sizes_RFC,test_score_mean_RFC,label='Testing Score')\n",
    "plt.show()"
   ]
  },
  {
   "cell_type": "code",
   "execution_count": 38,
   "metadata": {},
   "outputs": [],
   "source": [
    "original_x_test=original_x_test[undersample_x_train.columns]"
   ]
  },
  {
   "cell_type": "code",
   "execution_count": 46,
   "metadata": {},
   "outputs": [
    {
     "data": {
      "text/plain": [
       "array([[26281,  2151],\n",
       "       [    0,    49]])"
      ]
     },
     "execution_count": 46,
     "metadata": {},
     "output_type": "execute_result"
    }
   ],
   "source": [
    "from sklearn.metrics import confusion_matrix\n",
    "org_y_pred=random_forest_best_param.predict(original_x_test)\n",
    "confusion_matrix(original_y_test,org_y_pred)"
   ]
  },
  {
   "cell_type": "markdown",
   "metadata": {},
   "source": [
    "<h2>ROC Curve</h2>"
   ]
  },
  {
   "cell_type": "code",
   "execution_count": 41,
   "metadata": {},
   "outputs": [],
   "source": [
    "from sklearn.metrics import roc_curve,roc_auc_score\n",
    "from sklearn.model_selection import cross_val_predict\n",
    "\n",
    "LR_pred=cross_val_predict(log_reg_best_param,original_x_test,original_y_test)\n",
    "KNC_pred=cross_val_predict(k_neigber_best_param,original_x_test,original_y_test)\n",
    "RFC_pred=cross_val_predict(random_forest_best_param,original_x_test,original_y_test)"
   ]
  },
  {
   "cell_type": "code",
   "execution_count": 47,
   "metadata": {},
   "outputs": [
    {
     "data": {
      "image/png": "[encoded data removed]",
      "text/plain": [
       "<Figure size 720x360 with 1 Axes>"
      ]
     },
     "metadata": {
      "needs_background": "light"
     },
     "output_type": "display_data"
    }
   ],
   "source": [
    "fpr_LR,tpr_LR,threshold_LR=roc_curve(y_true=original_y_test,y_score=RFC_pred)\n",
    "plt.figure(figsize=[10,5])\n",
    "plt.title('ROC Curve')\n",
    "plt.xlabel('False Positive rate')\n",
    "plt.ylabel('True Positive Rate')\n",
    "plt.plot(fpr_LR,tpr_LR,'b-',linewidth=2)\n",
    "plt.plot([0,1],[0,1],'r--')\n",
    "plt.show()"
   ]
  },
  {
   "cell_type": "code",
   "execution_count": 48,
   "metadata": {},
   "outputs": [
    {
     "data": {
      "text/plain": [
       "0.6734342161175105"
      ]
     },
     "execution_count": 48,
     "metadata": {},
     "output_type": "execute_result"
    }
   ],
   "source": [
    "roc_auc_score(original_y_test,RFC_pred)"
   ]
  },
  {
   "cell_type": "code",
   "execution_count": 49,
   "metadata": {},
   "outputs": [
    {
     "data": {
      "text/plain": [
       "0.043574922187638955"
      ]
     },
     "execution_count": 49,
     "metadata": {},
     "output_type": "execute_result"
    }
   ],
   "source": [
    "from sklearn.metrics import f1_score\n",
    "f1_score=f1_score(original_y_test,org_y_pred)\n",
    "f1_score"
   ]
  },
  {
   "cell_type": "code",
   "execution_count": 50,
   "metadata": {},
   "outputs": [
    {
     "data": {
      "text/plain": [
       "0.31154246045878065"
      ]
     },
     "execution_count": 50,
     "metadata": {},
     "output_type": "execute_result"
    }
   ],
   "source": [
    "from sklearn.metrics import average_precision_score\n",
    "average_precision_score(original_y_test,RFC_pred)"
   ]
  },
  {
   "cell_type": "code",
   "execution_count": 51,
   "metadata": {},
   "outputs": [],
   "source": [
    "from sklearn.metrics import precision_recall_curve\n",
    "from sklearn.utils.fixes import signature\n",
    "precison_score,recall_score,threshold_value=precision_recall_curve(original_y_test,RFC_pred)"
   ]
  },
  {
   "cell_type": "code",
   "execution_count": 52,
   "metadata": {},
   "outputs": [
    {
     "data": {
      "image/png": "[encoded data removed]",
      "text/plain": [
       "<Figure size 720x360 with 1 Axes>"
      ]
     },
     "metadata": {
      "needs_background": "light"
     },
     "output_type": "display_data"
    }
   ],
   "source": [
    "plt.figure(figsize=[10,5])\n",
    "plt.title('Precison-Recall Curve')\n",
    "plt.xlabel('Recall')\n",
    "plt.ylabel('Precison')\n",
    "#step_kwargs = ({'step': 'post'}\n",
    " #              if 'step' in signature(plt.fill_between).parameters\n",
    "  #             else {})\n",
    "#plt.step(recall_score,precison_score,alpha=0.2)\n",
    "\n",
    "plt.plot(recall_score,precison_score,alpha=2)\n",
    "plt.grid()\n",
    "plt.show()"
   ]
  },
  {
   "cell_type": "code",
   "execution_count": null,
   "metadata": {},
   "outputs": [],
   "source": []
  }
 ],
 "metadata": {
  "kernelspec": {
   "display_name": "Python 3",
   "language": "python",
   "name": "python3"
  },
  "language_info": {
   "codemirror_mode": {
    "name": "ipython",
    "version": 3
   },
   "file_extension": ".py",
   "mimetype": "text/x-python",
   "name": "python",
   "nbconvert_exporter": "python",
   "pygments_lexer": "ipython3",
   "version": "3.7.0"
  }
 },
 "nbformat": 4,
 "nbformat_minor": 2
}
